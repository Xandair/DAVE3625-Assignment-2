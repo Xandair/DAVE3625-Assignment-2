{
 "cells": [
  {
   "cell_type": "code",
   "execution_count": 1,
   "id": "e2435f7f",
   "metadata": {},
   "outputs": [],
   "source": [
    "import pandas as pd\n",
    "import numpy as np\n",
    "import datetime as dt\n",
    "from sklearn import linear_model\n",
    "from sklearn.model_selection import train_test_split\n",
    "from sklearn.metrics import mean_squared_error, r2_score\n",
    "import matplotlib.pyplot as plt\n",
    "import matplotlib.axes as ax"
   ]
  },
  {
   "cell_type": "code",
   "execution_count": 2,
   "id": "782358ab",
   "metadata": {},
   "outputs": [],
   "source": [
    "data = pd.read_csv(\"TSLA.csv\")"
   ]
  },
  {
   "cell_type": "code",
   "execution_count": 3,
   "id": "965d3013",
   "metadata": {},
   "outputs": [
    {
     "data": {
      "text/html": [
       "<div>\n",
       "<style scoped>\n",
       "    .dataframe tbody tr th:only-of-type {\n",
       "        vertical-align: middle;\n",
       "    }\n",
       "\n",
       "    .dataframe tbody tr th {\n",
       "        vertical-align: top;\n",
       "    }\n",
       "\n",
       "    .dataframe thead th {\n",
       "        text-align: right;\n",
       "    }\n",
       "</style>\n",
       "<table border=\"1\" class=\"dataframe\">\n",
       "  <thead>\n",
       "    <tr style=\"text-align: right;\">\n",
       "      <th></th>\n",
       "      <th>Date</th>\n",
       "      <th>Open</th>\n",
       "      <th>High</th>\n",
       "      <th>Low</th>\n",
       "      <th>Close</th>\n",
       "      <th>Adj Close</th>\n",
       "      <th>Volume</th>\n",
       "    </tr>\n",
       "  </thead>\n",
       "  <tbody>\n",
       "    <tr>\n",
       "      <th>0</th>\n",
       "      <td>2010-06-29</td>\n",
       "      <td>3.800000</td>\n",
       "      <td>5.000000</td>\n",
       "      <td>3.508000</td>\n",
       "      <td>4.778000</td>\n",
       "      <td>4.778000</td>\n",
       "      <td>93831500</td>\n",
       "    </tr>\n",
       "    <tr>\n",
       "      <th>1</th>\n",
       "      <td>2010-06-30</td>\n",
       "      <td>5.158000</td>\n",
       "      <td>6.084000</td>\n",
       "      <td>4.660000</td>\n",
       "      <td>4.766000</td>\n",
       "      <td>4.766000</td>\n",
       "      <td>85935500</td>\n",
       "    </tr>\n",
       "    <tr>\n",
       "      <th>2</th>\n",
       "      <td>2010-07-01</td>\n",
       "      <td>5.000000</td>\n",
       "      <td>5.184000</td>\n",
       "      <td>4.054000</td>\n",
       "      <td>4.392000</td>\n",
       "      <td>4.392000</td>\n",
       "      <td>41094000</td>\n",
       "    </tr>\n",
       "    <tr>\n",
       "      <th>3</th>\n",
       "      <td>2010-07-02</td>\n",
       "      <td>4.600000</td>\n",
       "      <td>4.620000</td>\n",
       "      <td>3.742000</td>\n",
       "      <td>3.840000</td>\n",
       "      <td>3.840000</td>\n",
       "      <td>25699000</td>\n",
       "    </tr>\n",
       "    <tr>\n",
       "      <th>4</th>\n",
       "      <td>2010-07-06</td>\n",
       "      <td>4.000000</td>\n",
       "      <td>4.000000</td>\n",
       "      <td>3.166000</td>\n",
       "      <td>3.222000</td>\n",
       "      <td>3.222000</td>\n",
       "      <td>34334500</td>\n",
       "    </tr>\n",
       "    <tr>\n",
       "      <th>...</th>\n",
       "      <td>...</td>\n",
       "      <td>...</td>\n",
       "      <td>...</td>\n",
       "      <td>...</td>\n",
       "      <td>...</td>\n",
       "      <td>...</td>\n",
       "      <td>...</td>\n",
       "    </tr>\n",
       "    <tr>\n",
       "      <th>2840</th>\n",
       "      <td>2021-10-08</td>\n",
       "      <td>796.210022</td>\n",
       "      <td>796.380005</td>\n",
       "      <td>780.909973</td>\n",
       "      <td>785.489990</td>\n",
       "      <td>785.489990</td>\n",
       "      <td>16711100</td>\n",
       "    </tr>\n",
       "    <tr>\n",
       "      <th>2841</th>\n",
       "      <td>2021-10-11</td>\n",
       "      <td>787.650024</td>\n",
       "      <td>801.239990</td>\n",
       "      <td>785.500000</td>\n",
       "      <td>791.940002</td>\n",
       "      <td>791.940002</td>\n",
       "      <td>14200300</td>\n",
       "    </tr>\n",
       "    <tr>\n",
       "      <th>2842</th>\n",
       "      <td>2021-10-12</td>\n",
       "      <td>800.929993</td>\n",
       "      <td>812.320007</td>\n",
       "      <td>796.570007</td>\n",
       "      <td>805.719971</td>\n",
       "      <td>805.719971</td>\n",
       "      <td>22020000</td>\n",
       "    </tr>\n",
       "    <tr>\n",
       "      <th>2843</th>\n",
       "      <td>2021-10-13</td>\n",
       "      <td>810.469971</td>\n",
       "      <td>815.409973</td>\n",
       "      <td>805.780029</td>\n",
       "      <td>811.080017</td>\n",
       "      <td>811.080017</td>\n",
       "      <td>14120100</td>\n",
       "    </tr>\n",
       "    <tr>\n",
       "      <th>2844</th>\n",
       "      <td>2021-10-14</td>\n",
       "      <td>815.489990</td>\n",
       "      <td>820.250000</td>\n",
       "      <td>813.349976</td>\n",
       "      <td>818.320007</td>\n",
       "      <td>818.320007</td>\n",
       "      <td>12203200</td>\n",
       "    </tr>\n",
       "  </tbody>\n",
       "</table>\n",
       "<p>2845 rows × 7 columns</p>\n",
       "</div>"
      ],
      "text/plain": [
       "            Date        Open        High         Low       Close   Adj Close  \\\n",
       "0     2010-06-29    3.800000    5.000000    3.508000    4.778000    4.778000   \n",
       "1     2010-06-30    5.158000    6.084000    4.660000    4.766000    4.766000   \n",
       "2     2010-07-01    5.000000    5.184000    4.054000    4.392000    4.392000   \n",
       "3     2010-07-02    4.600000    4.620000    3.742000    3.840000    3.840000   \n",
       "4     2010-07-06    4.000000    4.000000    3.166000    3.222000    3.222000   \n",
       "...          ...         ...         ...         ...         ...         ...   \n",
       "2840  2021-10-08  796.210022  796.380005  780.909973  785.489990  785.489990   \n",
       "2841  2021-10-11  787.650024  801.239990  785.500000  791.940002  791.940002   \n",
       "2842  2021-10-12  800.929993  812.320007  796.570007  805.719971  805.719971   \n",
       "2843  2021-10-13  810.469971  815.409973  805.780029  811.080017  811.080017   \n",
       "2844  2021-10-14  815.489990  820.250000  813.349976  818.320007  818.320007   \n",
       "\n",
       "        Volume  \n",
       "0     93831500  \n",
       "1     85935500  \n",
       "2     41094000  \n",
       "3     25699000  \n",
       "4     34334500  \n",
       "...        ...  \n",
       "2840  16711100  \n",
       "2841  14200300  \n",
       "2842  22020000  \n",
       "2843  14120100  \n",
       "2844  12203200  \n",
       "\n",
       "[2845 rows x 7 columns]"
      ]
     },
     "execution_count": 3,
     "metadata": {},
     "output_type": "execute_result"
    }
   ],
   "source": [
    "data"
   ]
  },
  {
   "cell_type": "code",
   "execution_count": 4,
   "id": "36d41962",
   "metadata": {},
   "outputs": [],
   "source": [
    "data = data.dropna() #Drop missing values if any"
   ]
  },
  {
   "cell_type": "code",
   "execution_count": 5,
   "id": "c8ff48fc",
   "metadata": {},
   "outputs": [],
   "source": [
    "data[\"Date\"] = pd.to_datetime(data[\"Date\"])\n",
    "data[\"Date\"] = data[\"Date\"].map(dt.datetime.toordinal)"
   ]
  },
  {
   "cell_type": "code",
   "execution_count": 6,
   "id": "d234367a",
   "metadata": {},
   "outputs": [],
   "source": [
    "data_DateClose = data.drop([\"High\", \"Low\", \"Open\",\"Adj Close\", \"Volume\"], axis=\"columns\")"
   ]
  },
  {
   "cell_type": "code",
   "execution_count": 7,
   "id": "cdd2c2f7",
   "metadata": {},
   "outputs": [
    {
     "data": {
      "text/html": [
       "<div>\n",
       "<style scoped>\n",
       "    .dataframe tbody tr th:only-of-type {\n",
       "        vertical-align: middle;\n",
       "    }\n",
       "\n",
       "    .dataframe tbody tr th {\n",
       "        vertical-align: top;\n",
       "    }\n",
       "\n",
       "    .dataframe thead th {\n",
       "        text-align: right;\n",
       "    }\n",
       "</style>\n",
       "<table border=\"1\" class=\"dataframe\">\n",
       "  <thead>\n",
       "    <tr style=\"text-align: right;\">\n",
       "      <th></th>\n",
       "      <th>Date</th>\n",
       "      <th>Close</th>\n",
       "    </tr>\n",
       "  </thead>\n",
       "  <tbody>\n",
       "    <tr>\n",
       "      <th>0</th>\n",
       "      <td>733952</td>\n",
       "      <td>4.778000</td>\n",
       "    </tr>\n",
       "    <tr>\n",
       "      <th>1</th>\n",
       "      <td>733953</td>\n",
       "      <td>4.766000</td>\n",
       "    </tr>\n",
       "    <tr>\n",
       "      <th>2</th>\n",
       "      <td>733954</td>\n",
       "      <td>4.392000</td>\n",
       "    </tr>\n",
       "    <tr>\n",
       "      <th>3</th>\n",
       "      <td>733955</td>\n",
       "      <td>3.840000</td>\n",
       "    </tr>\n",
       "    <tr>\n",
       "      <th>4</th>\n",
       "      <td>733959</td>\n",
       "      <td>3.222000</td>\n",
       "    </tr>\n",
       "    <tr>\n",
       "      <th>...</th>\n",
       "      <td>...</td>\n",
       "      <td>...</td>\n",
       "    </tr>\n",
       "    <tr>\n",
       "      <th>2840</th>\n",
       "      <td>738071</td>\n",
       "      <td>785.489990</td>\n",
       "    </tr>\n",
       "    <tr>\n",
       "      <th>2841</th>\n",
       "      <td>738074</td>\n",
       "      <td>791.940002</td>\n",
       "    </tr>\n",
       "    <tr>\n",
       "      <th>2842</th>\n",
       "      <td>738075</td>\n",
       "      <td>805.719971</td>\n",
       "    </tr>\n",
       "    <tr>\n",
       "      <th>2843</th>\n",
       "      <td>738076</td>\n",
       "      <td>811.080017</td>\n",
       "    </tr>\n",
       "    <tr>\n",
       "      <th>2844</th>\n",
       "      <td>738077</td>\n",
       "      <td>818.320007</td>\n",
       "    </tr>\n",
       "  </tbody>\n",
       "</table>\n",
       "<p>2845 rows × 2 columns</p>\n",
       "</div>"
      ],
      "text/plain": [
       "        Date       Close\n",
       "0     733952    4.778000\n",
       "1     733953    4.766000\n",
       "2     733954    4.392000\n",
       "3     733955    3.840000\n",
       "4     733959    3.222000\n",
       "...      ...         ...\n",
       "2840  738071  785.489990\n",
       "2841  738074  791.940002\n",
       "2842  738075  805.719971\n",
       "2843  738076  811.080017\n",
       "2844  738077  818.320007\n",
       "\n",
       "[2845 rows x 2 columns]"
      ]
     },
     "execution_count": 7,
     "metadata": {},
     "output_type": "execute_result"
    }
   ],
   "source": [
    "data_DateClose"
   ]
  },
  {
   "cell_type": "code",
   "execution_count": 8,
   "id": "6e851f8d",
   "metadata": {},
   "outputs": [],
   "source": [
    "# Make 2 subsets using train_test_split that splits into random subsets.\n",
    "train, test = train_test_split(data_DateClose, test_size=0.2, random_state=42)"
   ]
  },
  {
   "cell_type": "code",
   "execution_count": 9,
   "id": "2226ba6d",
   "metadata": {},
   "outputs": [],
   "source": [
    "#Set up linear regression\n",
    "regression_training = linear_model.LinearRegression()\n",
    "\n",
    "#Separate date and close with both train and test\n",
    "training_date = train.drop(\"Close\", axis = \"columns\")\n",
    "training_close = train.drop(\"Date\", axis = \"columns\")\n",
    "testing_date = test.drop(\"Close\", axis = \"columns\")\n",
    "testing_close = test.drop(\"Date\", axis = \"columns\")"
   ]
  },
  {
   "cell_type": "code",
   "execution_count": 10,
   "id": "ee8bf560",
   "metadata": {},
   "outputs": [],
   "source": [
    "regression_training.fit(training_date, training_close)\n",
    "training_date_datetime = training_date[\"Date\"].apply(dt.datetime.fromordinal)\n"
   ]
  },
  {
   "cell_type": "code",
   "execution_count": 11,
   "id": "0f93cf96",
   "metadata": {},
   "outputs": [],
   "source": [
    "training_prediction = regression_training.predict(training_date)"
   ]
  },
  {
   "cell_type": "code",
   "execution_count": 12,
   "id": "1229f98f",
   "metadata": {},
   "outputs": [],
   "source": [
    "testing_prediction = regression_training.predict(testing_date)\n",
    "testing_date_datetime = testing_date[\"Date\"].apply(dt.datetime.fromordinal)"
   ]
  },
  {
   "cell_type": "code",
   "execution_count": 13,
   "id": "5fa74929",
   "metadata": {},
   "outputs": [],
   "source": [
    "dateInput = dt.date(2025, 1, 1)\n",
    "ordinalInput = dateInput.toordinal()"
   ]
  },
  {
   "cell_type": "code",
   "execution_count": 14,
   "id": "953f9f34",
   "metadata": {},
   "outputs": [
    {
     "name": "stderr",
     "output_type": "stream",
     "text": [
      "C:\\Users\\alexa\\anaconda3\\envs\\dave3625\\lib\\site-packages\\sklearn\\base.py:464: UserWarning: X does not have valid feature names, but LinearRegression was fitted with feature names\n",
      "  warnings.warn(\n"
     ]
    }
   ],
   "source": [
    "training_output = regression_training.predict([[ordinalInput]])\n",
    "\n",
    "#Need to format datetime so it can be printed correctly in output\n",
    "formattedDate = dateInput.strftime(\"%D\")\n",
    "\n",
    "outputString = \"Predicted price for Tesla at \" + formattedDate + \" is \" + str(\"%.5f\" % training_output[0][0])"
   ]
  },
  {
   "cell_type": "code",
   "execution_count": 15,
   "id": "1cdb24c8",
   "metadata": {},
   "outputs": [
    {
     "name": "stdout",
     "output_type": "stream",
     "text": [
      "Predicted price for Tesla at 01/01/25 is 432.28700\n"
     ]
    }
   ],
   "source": [
    "print(outputString)"
   ]
  },
  {
   "cell_type": "code",
   "execution_count": 16,
   "id": "99a90de5",
   "metadata": {},
   "outputs": [
    {
     "name": "stdout",
     "output_type": "stream",
     "text": [
      "Predicted price for Tesla at 01/01/30 is 616.79970\n"
     ]
    },
    {
     "name": "stderr",
     "output_type": "stream",
     "text": [
      "C:\\Users\\alexa\\anaconda3\\envs\\dave3625\\lib\\site-packages\\sklearn\\base.py:464: UserWarning: X does not have valid feature names, but LinearRegression was fitted with feature names\n",
      "  warnings.warn(\n"
     ]
    }
   ],
   "source": [
    "#Testing different date\n",
    "dateInput = dt.date(2030, 1, 1)\n",
    "ordinalInput = dateInput.toordinal()\n",
    "\n",
    "training_output = regression_training.predict([[ordinalInput]])\n",
    "formattedDate = dateInput.strftime(\"%D\")\n",
    "\n",
    "outputString = \"Predicted price for Tesla at \" + formattedDate + \" is \" + str(\"%.5f\" % training_output[0][0])\n",
    "print(outputString)"
   ]
  },
  {
   "cell_type": "raw",
   "id": "cb7b0d2b",
   "metadata": {},
   "source": []
  },
  {
   "cell_type": "code",
   "execution_count": 17,
   "id": "d9b1528e",
   "metadata": {},
   "outputs": [
    {
     "name": "stdout",
     "output_type": "stream",
     "text": [
      "0.41046323935945495\n"
     ]
    }
   ],
   "source": [
    "#checking prediction accuracy percentage\n",
    "print( r2_score(training_close, training_prediction))"
   ]
  },
  {
   "cell_type": "code",
   "execution_count": 19,
   "id": "ca2c7644",
   "metadata": {},
   "outputs": [
    {
     "data": {
      "text/plain": [
       "[<matplotlib.lines.Line2D at 0x29700789af0>]"
      ]
     },
     "execution_count": 19,
     "metadata": {},
     "output_type": "execute_result"
    },
    {
     "data": {
      "image/png": "[encoded data removed]",
      "text/plain": [
       "<Figure size 2000x1000 with 1 Axes>"
      ]
     },
     "metadata": {},
     "output_type": "display_data"
    }
   ],
   "source": [
    "#Visualize data as a scatter plot to show how linear regression reads the data.\n",
    "plt.figure(figsize =(20,10))\n",
    "plt.xlabel(\"Date\", fontsize=20)\n",
    "plt.ylabel(\"Price\", fontsize=20)\n",
    "plt.scatter(training_date_datetime, training_close, color=\"red\")\n",
    "plt.plot(training_date_datetime, training_prediction, color=\"blue\")"
   ]
  },
  {
   "cell_type": "code",
   "execution_count": null,
   "id": "bad5aca6",
   "metadata": {},
   "outputs": [],
   "source": [
    "#The sudden spike at 2020 explains why the prediction is so off, as the more stable prices from 2010-2020 affect the linear regression."
   ]
  }
 ],
 "metadata": {
  "kernelspec": {
   "display_name": "Python 3 (ipykernel)",
   "language": "python",
   "name": "python3"
  },
  "language_info": {
   "codemirror_mode": {
    "name": "ipython",
    "version": 3
   },
   "file_extension": ".py",
   "mimetype": "text/x-python",
   "name": "python",
   "nbconvert_exporter": "python",
   "pygments_lexer": "ipython3",
   "version": "3.8.18"
  }
 },
 "nbformat": 4,
 "nbformat_minor": 5
}
